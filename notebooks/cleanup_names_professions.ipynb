{
 "cells": [
  {
   "cell_type": "markdown",
   "id": "fd6e89f6-43e5-4ad2-8f96-3181e6b5ed3f",
   "metadata": {},
   "source": [
    "Proceeds to analyze and cleanup IMDb Open Source Datasets."
   ]
  },
  {
   "cell_type": "code",
   "execution_count": 1,
   "id": "425f1ddf-9916-417f-8bcd-aca8c0219088",
   "metadata": {},
   "outputs": [],
   "source": [
    "import pandas as pd"
   ]
  },
  {
   "cell_type": "code",
   "execution_count": 2,
   "id": "4a7ef1a2-9666-4253-b103-b75e73226869",
   "metadata": {},
   "outputs": [
    {
     "data": {
      "text/html": [
       "<div>\n",
       "<style scoped>\n",
       "    .dataframe tbody tr th:only-of-type {\n",
       "        vertical-align: middle;\n",
       "    }\n",
       "\n",
       "    .dataframe tbody tr th {\n",
       "        vertical-align: top;\n",
       "    }\n",
       "\n",
       "    .dataframe thead th {\n",
       "        text-align: right;\n",
       "    }\n",
       "</style>\n",
       "<table border=\"1\" class=\"dataframe\">\n",
       "  <thead>\n",
       "    <tr style=\"text-align: right;\">\n",
       "      <th></th>\n",
       "      <th>nconst</th>\n",
       "      <th>primaryName</th>\n",
       "      <th>birthYear</th>\n",
       "      <th>deathYear</th>\n",
       "      <th>primaryProfession</th>\n",
       "      <th>knownForTitles</th>\n",
       "    </tr>\n",
       "  </thead>\n",
       "  <tbody>\n",
       "    <tr>\n",
       "      <th>0</th>\n",
       "      <td>nm0000001</td>\n",
       "      <td>Fred Astaire</td>\n",
       "      <td>1899</td>\n",
       "      <td>1987</td>\n",
       "      <td>actor,miscellaneous,producer</td>\n",
       "      <td>tt0072308,tt0050419,tt0053137,tt0027125</td>\n",
       "    </tr>\n",
       "    <tr>\n",
       "      <th>1</th>\n",
       "      <td>nm0000002</td>\n",
       "      <td>Lauren Bacall</td>\n",
       "      <td>1924</td>\n",
       "      <td>2014</td>\n",
       "      <td>actress,soundtrack,archive_footage</td>\n",
       "      <td>tt0037382,tt0075213,tt0117057,tt0038355</td>\n",
       "    </tr>\n",
       "    <tr>\n",
       "      <th>2</th>\n",
       "      <td>nm0000003</td>\n",
       "      <td>Brigitte Bardot</td>\n",
       "      <td>1934</td>\n",
       "      <td>\\N</td>\n",
       "      <td>actress,music_department,producer</td>\n",
       "      <td>tt0057345,tt0049189,tt0056404,tt0054452</td>\n",
       "    </tr>\n",
       "    <tr>\n",
       "      <th>3</th>\n",
       "      <td>nm0000004</td>\n",
       "      <td>John Belushi</td>\n",
       "      <td>1949</td>\n",
       "      <td>1982</td>\n",
       "      <td>actor,writer,music_department</td>\n",
       "      <td>tt0072562,tt0077975,tt0080455,tt0078723</td>\n",
       "    </tr>\n",
       "    <tr>\n",
       "      <th>4</th>\n",
       "      <td>nm0000005</td>\n",
       "      <td>Ingmar Bergman</td>\n",
       "      <td>1918</td>\n",
       "      <td>2007</td>\n",
       "      <td>writer,director,actor</td>\n",
       "      <td>tt0050986,tt0083922,tt0069467,tt0050976</td>\n",
       "    </tr>\n",
       "  </tbody>\n",
       "</table>\n",
       "</div>"
      ],
      "text/plain": [
       "      nconst      primaryName birthYear deathYear  \\\n",
       "0  nm0000001     Fred Astaire      1899      1987   \n",
       "1  nm0000002    Lauren Bacall      1924      2014   \n",
       "2  nm0000003  Brigitte Bardot      1934        \\N   \n",
       "3  nm0000004     John Belushi      1949      1982   \n",
       "4  nm0000005   Ingmar Bergman      1918      2007   \n",
       "\n",
       "                    primaryProfession                           knownForTitles  \n",
       "0        actor,miscellaneous,producer  tt0072308,tt0050419,tt0053137,tt0027125  \n",
       "1  actress,soundtrack,archive_footage  tt0037382,tt0075213,tt0117057,tt0038355  \n",
       "2   actress,music_department,producer  tt0057345,tt0049189,tt0056404,tt0054452  \n",
       "3       actor,writer,music_department  tt0072562,tt0077975,tt0080455,tt0078723  \n",
       "4               writer,director,actor  tt0050986,tt0083922,tt0069467,tt0050976  "
      ]
     },
     "execution_count": 2,
     "metadata": {},
     "output_type": "execute_result"
    }
   ],
   "source": [
    "df_name_basics = pd.read_pickle('../pickles/name.basics.pkl')\n",
    "df_name_basics.head()"
   ]
  },
  {
   "cell_type": "code",
   "execution_count": 3,
   "id": "d7cda4f8-e790-4126-aec0-a3ba4b319cb8",
   "metadata": {},
   "outputs": [
    {
     "name": "stdout",
     "output_type": "stream",
     "text": [
      "<class 'pandas.core.frame.DataFrame'>\n",
      "RangeIndex: 14112767 entries, 0 to 14112766\n",
      "Data columns (total 6 columns):\n",
      " #   Column             Dtype \n",
      "---  ------             ----- \n",
      " 0   nconst             object\n",
      " 1   primaryName        object\n",
      " 2   birthYear          object\n",
      " 3   deathYear          object\n",
      " 4   primaryProfession  object\n",
      " 5   knownForTitles     object\n",
      "dtypes: object(6)\n",
      "memory usage: 646.0+ MB\n"
     ]
    }
   ],
   "source": [
    "df_name_basics.info()"
   ]
  },
  {
   "cell_type": "code",
   "execution_count": 4,
   "id": "61c7d6b8-eaf1-4a95-842c-62ea5d0560bf",
   "metadata": {},
   "outputs": [
    {
     "data": {
      "text/plain": [
       "primaryProfession\n",
       "\\N                                                  2751265\n",
       "actor                                               2500401\n",
       "actress                                             1604838\n",
       "miscellaneous                                        816885\n",
       "producer                                             484347\n",
       "                                                     ...   \n",
       "production_manager,composer,assistant_director            1\n",
       "music_artist,producer,podcaster                           1\n",
       "art_director,make_up_department,casting_director          1\n",
       "executive,director,production_manager                     1\n",
       "composer,director,archive_footage                         1\n",
       "Name: count, Length: 23161, dtype: int64"
      ]
     },
     "execution_count": 4,
     "metadata": {},
     "output_type": "execute_result"
    }
   ],
   "source": [
    "df_name_basics['primaryProfession'].value_counts()"
   ]
  },
  {
   "cell_type": "markdown",
   "id": "48f395a7-64c4-46a8-8791-d4861cdca334",
   "metadata": {},
   "source": [
    "Two DataFrames could be derivated from this _names.basic.tsv_, one for Names and Professions and another for Titles and Names."
   ]
  },
  {
   "cell_type": "code",
   "execution_count": 5,
   "id": "0bc1211f-935b-47be-b62e-d82e8fba8689",
   "metadata": {},
   "outputs": [
    {
     "data": {
      "text/html": [
       "<div>\n",
       "<style scoped>\n",
       "    .dataframe tbody tr th:only-of-type {\n",
       "        vertical-align: middle;\n",
       "    }\n",
       "\n",
       "    .dataframe tbody tr th {\n",
       "        vertical-align: top;\n",
       "    }\n",
       "\n",
       "    .dataframe thead th {\n",
       "        text-align: right;\n",
       "    }\n",
       "</style>\n",
       "<table border=\"1\" class=\"dataframe\">\n",
       "  <thead>\n",
       "    <tr style=\"text-align: right;\">\n",
       "      <th></th>\n",
       "      <th>nconst</th>\n",
       "      <th>primaryProfession</th>\n",
       "    </tr>\n",
       "  </thead>\n",
       "  <tbody>\n",
       "    <tr>\n",
       "      <th>0</th>\n",
       "      <td>nm0000001</td>\n",
       "      <td>actor</td>\n",
       "    </tr>\n",
       "    <tr>\n",
       "      <th>0</th>\n",
       "      <td>nm0000001</td>\n",
       "      <td>miscellaneous</td>\n",
       "    </tr>\n",
       "    <tr>\n",
       "      <th>0</th>\n",
       "      <td>nm0000001</td>\n",
       "      <td>producer</td>\n",
       "    </tr>\n",
       "    <tr>\n",
       "      <th>1</th>\n",
       "      <td>nm0000002</td>\n",
       "      <td>actress</td>\n",
       "    </tr>\n",
       "    <tr>\n",
       "      <th>1</th>\n",
       "      <td>nm0000002</td>\n",
       "      <td>soundtrack</td>\n",
       "    </tr>\n",
       "  </tbody>\n",
       "</table>\n",
       "</div>"
      ],
      "text/plain": [
       "      nconst primaryProfession\n",
       "0  nm0000001             actor\n",
       "0  nm0000001     miscellaneous\n",
       "0  nm0000001          producer\n",
       "1  nm0000002           actress\n",
       "1  nm0000002        soundtrack"
      ]
     },
     "execution_count": 5,
     "metadata": {},
     "output_type": "execute_result"
    }
   ],
   "source": [
    "# Creates a copy of tho og df\n",
    "df_name_professions = df_name_basics.copy()\n",
    "df_name_professions.drop(labels=['primaryName', 'birthYear', 'deathYear', 'knownForTitles'], axis=1, inplace=True)\n",
    "df_name_professions['primaryProfession'] = df_name_professions['primaryProfession'].str.split(',')\n",
    "df_name_professions = df_name_professions.explode('primaryProfession')\n",
    "df_name_professions.head()"
   ]
  },
  {
   "cell_type": "code",
   "execution_count": 6,
   "id": "e12f8902-9f2e-43ea-bf74-b5c52dfa5ef0",
   "metadata": {},
   "outputs": [],
   "source": [
    "df_name_professions.to_pickle('../pickles/names_professions.pkl')"
   ]
  },
  {
   "cell_type": "code",
   "execution_count": 12,
   "id": "8afc38f5-f7d2-4e14-ad3e-0c2ccf79ca08",
   "metadata": {},
   "outputs": [],
   "source": [
    "# writeout final csv\n",
    "df_name_professions = pd.read_pickle('../pickles/names_professions.pkl')\n",
    "df_name_professions.set_index(keys=['nconst'], inplace=True)\n",
    "df_name_professions[~df_name_professions.isin(['\\\\N']).any(axis=1)]\n",
    "df_name_professions.to_csv('../output/name_professions.csv')"
   ]
  }
 ],
 "metadata": {
  "kernelspec": {
   "display_name": "Python 3 (ipykernel)",
   "language": "python",
   "name": "python3"
  },
  "language_info": {
   "codemirror_mode": {
    "name": "ipython",
    "version": 3
   },
   "file_extension": ".py",
   "mimetype": "text/x-python",
   "name": "python",
   "nbconvert_exporter": "python",
   "pygments_lexer": "ipython3",
   "version": "3.10.12"
  }
 },
 "nbformat": 4,
 "nbformat_minor": 5
}
